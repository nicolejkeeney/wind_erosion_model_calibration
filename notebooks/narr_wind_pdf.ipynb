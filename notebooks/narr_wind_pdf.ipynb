{
 "cells": [
  {
   "cell_type": "markdown",
   "id": "9bb9eac7",
   "metadata": {},
   "source": [
    "# Create a NARR probability distribution for 3 hourly windspeeds\n",
    " 1) Find the coordinates of each sediment flux site<br>\n",
    " 2) Find the NARR gridcell that is closest to the flux coordinates<br>\n",
    " 3) Compute the wind probability distribution at that site for each date we have a measurement"
   ]
  },
  {
   "cell_type": "code",
   "execution_count": 1,
   "id": "59c61be0",
   "metadata": {},
   "outputs": [],
   "source": [
    "\"\"\"narr_wind_pdf.ipynb \n",
    "    \n",
    "    Create a NARR probability distribution for 3 hourly windspeeds. \n",
    "    This notebook relies on uwnd and vwnd variables from NOAA's NARR windspeeds at 10m height (uwnd.10m, vwnd.10m)\n",
    "    Make sure you add coordinates for any new sites to the csv file site_locations.csv\n",
    "    \n",
    "    Author: Nicole Keeney\n",
    "    Created: 01/21/2022\n",
    "    Modification History: n/a\n",
    "    \n",
    "\"\"\"\n",
    "\n",
    "import os \n",
    "import sys \n",
    "from tqdm import tqdm # Progress bar \n",
    "import matplotlib.pyplot as plt\n",
    "import xarray as xr\n",
    "import pandas as pd \n",
    "import numpy as np \n",
    "from scipy import stats\n",
    "import warnings\n",
    "from pyproj import Transformer\n",
    "\n",
    "sys.path.append('..')\n",
    "from utils.read_data_utils import read_datetime_csv"
   ]
  },
  {
   "cell_type": "code",
   "execution_count": 2,
   "id": "0d956448",
   "metadata": {},
   "outputs": [],
   "source": [
    "# --------------- USER INPUTS ---------------\n",
    "\n",
    "# List of sites to compute wind PDF for \n",
    "# If you just want to compute it for one site, make sure it's in a list; i.e. [\"NEAT1\"]\n",
    "site_list = [\"Moab\",\"Pullman\",\"Holloman\",\"Mandan\",\"SanLuisValley\",\"NEAT1\",\"NEAT2\",\"NEAT3\"]\n",
    "\n",
    "# Directory containing wind and flux data for each site \n",
    "data_dir = \"../data/site_data/\"\n",
    "\n",
    "# Wind bins to use for computing PDF \n",
    "bins = [0,1,2,3,4,5,6,7,8,9,10,11,12,13,14,15,16,17,18,19,20,1000]"
   ]
  },
  {
   "cell_type": "code",
   "execution_count": 3,
   "id": "90bb746a",
   "metadata": {},
   "outputs": [],
   "source": [
    "# --------------- READ IN NARR RASTERS ---------------\n",
    "# The data used is the 10m u and v windspeeds from the NARR reanalysis \n",
    "\n",
    "uwnd_paths, vwnd_paths = [],[]\n",
    "for year in np.arange(2009,2021,1): # Date range for which we have flux measurements \n",
    "    u_path = data_dir+\"narr_wind/uwnd/uwnd.10m.\"+str(year)+\".nc\" # Path to u data for that year\n",
    "    v_path = data_dir+\"narr_wind/vwnd/vwnd.10m.\"+str(year)+\".nc\" # Path to v data for that year\n",
    "    if os.path.exists(u_path):\n",
    "        uwnd_paths.append(u_path)\n",
    "    else: \n",
    "        print(\"No u wind file found for year {year}\".format(year=year)) # Print warning if no file found for that year\n",
    "    if os.path.exists(v_path): \n",
    "        vwnd_paths.append(v_path)\n",
    "    else: \n",
    "        print(\"No v wind file found for year {year}\".format(year=year)) # Print warning if no file found for that year\n",
    "        \n",
    "# Read in list of filenames \n",
    "with warnings.catch_warnings(record=True): # Hide annoying warnings \n",
    "    u = xr.open_mfdataset(uwnd_paths, decode_coords=\"all\").uwnd\n",
    "    v = xr.open_mfdataset(vwnd_paths, decode_coords=\"all\").vwnd"
   ]
  },
  {
   "cell_type": "code",
   "execution_count": null,
   "id": "9c74c868",
   "metadata": {},
   "outputs": [
    {
     "name": "stderr",
     "output_type": "stream",
     "text": [
      "\r",
      "  0%|                                                     | 0/8 [00:00<?, ?it/s]"
     ]
    },
    {
     "name": "stdout",
     "output_type": "stream",
     "text": [
      "Computing wind PDF for Moab...\n",
      "Collection site coordinates: (38.651, -109.87)\n",
      "Closest NARR gridcell coordinate: (38.62, -109.756)\n",
      "complete\n"
     ]
    },
    {
     "data": {
      "image/png": "[encoded data removed]",
      "text/plain": [
       "<Figure size 432x288 with 1 Axes>"
      ]
     },
     "metadata": {
      "needs_background": "light"
     },
     "output_type": "display_data"
    },
    {
     "name": "stderr",
     "output_type": "stream",
     "text": [
      "\r",
      " 12%|█████▌                                      | 1/8 [02:18<16:06, 138.03s/it]"
     ]
    },
    {
     "name": "stdout",
     "output_type": "stream",
     "text": [
      "Computing wind PDF for Pullman...\n",
      "Collection site coordinates: (46.887, -118.285)\n",
      "Closest NARR gridcell coordinate: (46.761, -118.324)\n",
      "complete\n"
     ]
    },
    {
     "data": {
      "image/png": "[encoded data removed]",
      "text/plain": [
       "<Figure size 432x288 with 1 Axes>"
      ]
     },
     "metadata": {
      "needs_background": "light"
     },
     "output_type": "display_data"
    },
    {
     "name": "stderr",
     "output_type": "stream",
     "text": [
      "\r",
      " 25%|███████████                                 | 2/8 [04:34<13:41, 136.97s/it]"
     ]
    },
    {
     "name": "stdout",
     "output_type": "stream",
     "text": [
      "Computing wind PDF for Holloman...\n",
      "Collection site coordinates: (32.942, -106.107)\n"
     ]
    }
   ],
   "source": [
    "# Read in csv with lat/lon coords of each site \n",
    "site_locations = pd.read_csv(\"../data/site_data/site_locations.csv\", index_col=\"Site\")\n",
    "\n",
    "for site_name in tqdm(site_list): \n",
    "    print(\"Computing wind PDF for {site_name}...\".format(site_name=site_name))\n",
    "    \n",
    "    # ------------------ GET CLOSEST NARR GRIDCELL ------------------\n",
    "\n",
    "    # First, we get the coordinates of each collection site. \n",
    "    # Then, using information from the NARR file, we can construct a proj string defining the native grid of the data (Lambert Conformal Conic). \n",
    "    # Then, we convert the collection site's coordinates from lat/lon to the projection coordinates of the NARR rasters using the Proj library. \n",
    "    # Lastly, we use the projected coornates to find the NARR gridcell that is closest to each collection site using xarray vectorized indexing \n",
    "    # Vectorized indexing: https://xarray.pydata.org/en/stable/user-guide/indexing.html#vectorized-indexing)\n",
    "\n",
    "    # Get lat/lon coords of site \n",
    "    site_coords = site_locations.loc[site_name]\n",
    "    lat, lon = site_coords.Latitude, site_coords.Longitude\n",
    "    print(\"Collection site coordinates: ({lat}, {lon})\".format(lat=round(lat,3), lon=round(lon,3)))\n",
    "\n",
    "    # Transform coordinates to Lambert Conformal Conic \n",
    "    # https://proj.org/operations/projections/lcc.html#:~:text=A%20Lambert%20Conformal%20Conic%20projection,Johann%20Heinrich%20Lambert%20in%201772.\n",
    "    proj_attrs = u.Lambert_Conformal.attrs\n",
    "    proj_string = \"+proj=lcc +lat_0={lat_origin} +lon_0={lon_origin} +lat_1={first_par} +lat_2={second_par} +x_0={fal_east} +y_0={fal_north}\\\n",
    "                    \".format(lat_origin=proj_attrs[\"latitude_of_projection_origin\"], lon_origin=proj_attrs[\"longitude_of_central_meridian\"], \n",
    "                             first_par=proj_attrs[\"standard_parallel\"][0], second_par=proj_attrs[\"standard_parallel\"][1],\n",
    "                             fal_east=proj_attrs[\"false_easting\"], fal_north=proj_attrs[\"false_northing\"])\n",
    "    transformer = Transformer.from_crs(\"epsg:4326\", proj_string, always_xy=False)\n",
    "    x, y = transformer.transform(lat, lon)\n",
    "\n",
    "    # Get closest gridcell \n",
    "    site_u = u.sel(x=x, y=y, method=\"nearest\").load()\n",
    "    site_v = v.sel(x=x, y=y, method=\"nearest\").load()\n",
    "    print(\"Closest NARR gridcell coordinate: ({lat}, {lon})\".format(lat=round(site_u.lat.item(),3), lon=round(site_u.lon.item(),3)))\n",
    "\n",
    "\n",
    "    # ------------------ COMPUTE WIND PDF FOR EACH MEASUREMENT DATE ------------------\n",
    "\n",
    "    # Read in data for that site\n",
    "    flux_data = read_datetime_csv(path = data_dir+site_name+\"/field_Q/\"+site_name+\"_fieldQ.csv\") # Sediment flux measurements\n",
    "    measurement_dates = list(flux_data.index) # Measurement dates \n",
    "\n",
    "    if \"NEAT\" in site_name: \n",
    "        first_date = pd.to_datetime(\"2008-04-01\") # Date lost during computation of Q from sediment weights \n",
    "        measurement_dates = [first_date] + measurement_dates\n",
    "\n",
    "    # Loop through each measurement date, excluding the final date \n",
    "    wind_pdf_all = [] # Append PDF for each date here \n",
    "    for i in range(len(measurement_dates)-1): \n",
    "\n",
    "        # Get range of dates that occur around \n",
    "        start_date = measurement_dates[i] \n",
    "        end_date = measurement_dates[i+1]\n",
    "\n",
    "        # Get NARR data between those dates \n",
    "        u_masked = site_u.sel(time=slice(start_date,end_date)).values\n",
    "        v_masked = site_v.sel(time=slice(start_date,end_date)).values\n",
    "\n",
    "        # Compute windspeed = sqrt(u^2+v^2)\n",
    "        windspeed = np.sqrt(u_masked**2+v_masked**2)\n",
    "\n",
    "        # Compute the PDF on the bin centers from scipy distribution object\n",
    "        counts_number, bin_edges = np.histogram(windspeed, bins=bins)\n",
    "        rel_freq = counts_number/len(windspeed)\n",
    "        wind_pdf_i = pd.Series(data=rel_freq, index=bins[:-1])\n",
    "        wind_pdf_i.index.name = \"bins\"\n",
    "\n",
    "        # Append to list \n",
    "        wind_pdf_all.append(wind_pdf_i)\n",
    "\n",
    "    # Combine to form one dataframe \n",
    "    pdf_df = pd.DataFrame(data=wind_pdf_all, index=measurement_dates[1:]) # Skip first day\n",
    "    pdf_df.index.name = \"Date\"\n",
    "\n",
    "    # Save csv \n",
    "    output_filename = site_name + \"_NARR_wind_pdf.csv\"\n",
    "    pdf_df.to_csv(data_dir+site_name+\"/wind/\"+output_filename, index=True) \n",
    "    print(\"complete\")\n",
    "\n",
    "\n",
    "    # ------------------ COMPUTE WIND PDF FOR ENTIRE PERIOD ------------------\n",
    "\n",
    "    start_date = measurement_dates[0]\n",
    "    end_date = measurement_dates[-1]\n",
    "    u_masked = site_u.sel(time=slice(start_date, end_date)).values\n",
    "    v_masked = site_v.sel(time=slice(start_date, end_date)).values\n",
    "    windspeed = np.sqrt(u_masked**2+v_masked**2)\n",
    "\n",
    "    # Compute the PDF on the bin centers from scipy distribution object\n",
    "    counts_number, bin_edges = np.histogram(windspeed, bins=bins)\n",
    "    rel_freq = counts_number/len(windspeed)\n",
    "\n",
    "    # Generate figure\n",
    "    title = site_name+\" wind PDF \"+start_date.strftime(\"%m/%d/%Y\")+\" - \"+end_date.strftime(\"%m/%d/%Y\")\n",
    "    figname = \"narr_wind_pdf_\"+site_name+\".png\"\n",
    "    plt.bar(bins[:-1], rel_freq)\n",
    "    plt.title(title)\n",
    "    plt.xlabel(xlabel=\"windspeed bins (m/s)\")\n",
    "    plt.ylabel(ylabel=\"frequency (0-1)\")\n",
    "    plt.xticks(bins[:-1], rotation=90)\n",
    "    #plt.grid(alpha=0.5, linestyle='--')\n",
    "    plt.savefig(data_dir+site_name+\"/wind/\"+figname, dpi=300, facecolor=\"white\")\n",
    "    plt.show()"
   ]
  }
 ],
 "metadata": {
  "kernelspec": {
   "display_name": "Python 3 (ipykernel)",
   "language": "python",
   "name": "python3"
  },
  "language_info": {
   "codemirror_mode": {
    "name": "ipython",
    "version": 3
   },
   "file_extension": ".py",
   "mimetype": "text/x-python",
   "name": "python",
   "nbconvert_exporter": "python",
   "pygments_lexer": "ipython3",
   "version": "3.8.12"
  }
 },
 "nbformat": 4,
 "nbformat_minor": 5
}
